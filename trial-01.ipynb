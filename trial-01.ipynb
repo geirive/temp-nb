{
 "cells": [
  {
   "cell_type": "markdown",
   "metadata": {
    "pycharm": {
     "name": "#%% md\n"
    }
   },
   "source": [
    "# Profile generator\n",
    "This notebook demonstrates the profile generator, created by Diana Rengifo \n",
    "\n"
   ]
  },
  {
   "cell_type": "markdown",
   "metadata": {},
   "source": [
    "## Initial setup\n",
    "This notebook demonstrates the profile generator.\n",
    "\n",
    "TODO (potential) - use widgets for input"
   ]
  },
  {
   "cell_type": "code",
   "execution_count": 1,
   "metadata": {
    "pycharm": {
     "is_executing": false,
     "name": "#%%\n"
    }
   },
   "outputs": [],
   "source": [
    "import ipysheet\n",
    "from ipywidgets import widgets\n",
    "\n",
    "def interleave(list1, list2):\n",
    "    if len(list1) == len(list2):\n",
    "        return [val for pair in zip(list1, list2) for val in pair]\n",
    "    raise ValueError(\"Expects inputs of equal length\")\n",
    "    \n",
    "initial_parameters = {'Number of steps':widgets.IntText(10)}\n",
    "labels = [widgets.Label(x) for x in initial_parameters.keys()]\n",
    "param_list = interleave(labels,initial_parameters.values())\n",
    "widgets.GridBox(param_list, layout=widgets.Layout(grid_template_columns=\"repeat(2, 100px)\"))\n",
    "\n",
    "DRILLING_DATA_KEYS = ['N_rigs', 'Drilling_time_ave', 'P_I_ratio', 'Nw_predrilled', 'Total_Nw']"
   ]
  },
  {
   "cell_type": "code",
   "execution_count": null,
   "metadata": {
    "pycharm": {
     "is_executing": false
    },
    "scrolled": true
   },
   "outputs": [],
   "source": [
    "\n",
    "drilling_data_sheet = ipysheet.sheet(key='drilling_data', row_headers=DRILLING_DATA_KEYS, columns=1)\n",
    "drilling_data_sheet\n"
   ]
  },
  {
   "cell_type": "code",
   "execution_count": null,
   "metadata": {
    "pycharm": {
     "is_executing": false
    }
   },
   "outputs": [],
   "source": [
    "items = [widgets.Label(str(i)) for i in range(8)]\n",
    "widgets.GridBox(items, layout=widgets.Layout(grid_template_columns=\"repeat(3, 100px)\"))\n",
    "\n"
   ]
  }
 ],
 "metadata": {
  "kernelspec": {
   "display_name": "Python 3",
   "language": "python",
   "name": "python3"
  },
  "language_info": {
   "codemirror_mode": {
    "name": "ipython",
    "version": 3
   },
   "file_extension": ".py",
   "mimetype": "text/x-python",
   "name": "python",
   "nbconvert_exporter": "python",
   "pygments_lexer": "ipython3",
   "version": "3.7.3"
  },
  "pycharm": {
   "stem_cell": {
    "cell_type": "raw",
    "source": [],
    "metadata": {
     "collapsed": false
    }
   }
  }
 },
 "nbformat": 4,
 "nbformat_minor": 1
}